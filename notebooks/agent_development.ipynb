{
 "cells": [
  {
   "cell_type": "markdown",
   "id": "2d80edb0",
   "metadata": {},
   "source": [
    "# Memory Enhanced AI Agent\n",
    "\n",
    "This notebook focuses on building an AI agent with persistent memory capabilities and personality.\n",
    "\n",
    "## What we will build in this notebook:\n",
    "1. **Agent Personality** - Consistent character and role definition\n",
    "2. **Memory Learning** - Automatically save new conversations to memory\n",
    "3. **Enhanced Agent Functions** - Advanced memory management and conversation handling\n",
    "4. **Interactive Agent** - Natural conversation flow with context continuity\n"
   ]
  },
  {
   "cell_type": "code",
   "execution_count": 4,
   "id": "3cd3b52c",
   "metadata": {},
   "outputs": [
    {
     "name": "stdout",
     "output_type": "stream",
     "text": [
      " Building Memory Enhanced AI Agent\n",
      "============================================================\n",
      " Connected to persistent memory system\n",
      " Current memories stored: 10\n",
      " Collection name: conversation_memory\n"
     ]
    }
   ],
   "source": [
    "#  we will Import libraries and connect to existing memory system the chroma db\n",
    "\n",
    "import chromadb\n",
    "import ollama\n",
    "from datetime import datetime\n",
    "import json\n",
    "import uuid\n",
    "\n",
    "print(\" Building Memory Enhanced AI Agent\")\n",
    "print(\"=\" * 60)\n",
    "\n",
    "# Connect to our persistent memory from Phase 1 & 2\n",
    "client = chromadb.PersistentClient(path=\"./chroma_db\")\n",
    "collection = client.get_collection(name=\"conversation_memory\")\n",
    "\n",
    "#above is the same memory collection that we are using\n",
    "\n",
    "print(\" Connected to persistent memory system\")\n",
    "print(f\" Current memories stored: {collection.count()}\")\n",
    "print(f\" Collection name: {collection.name}\")\n"
   ]
  },
  {
   "cell_type": "code",
   "execution_count": 10,
   "id": "b709a278",
   "metadata": {},
   "outputs": [
    {
     "name": "stdout",
     "output_type": "stream",
     "text": [
      " AI Agent 'Bruno' initialized!\n",
      " Personality: Brain_Powerhouse\n",
      " Connected to memory with 10 stored conversations\n",
      "\n",
      "============================================================\n",
      "✅ AI Agent created successfully!\n"
     ]
    }
   ],
   "source": [
    "# we are Creating an  AI Agent Class with Personality and Memory Learning\n",
    "\n",
    "class MemoryEnhancedAgent:\n",
    "    def __init__(self, name=\"Bruno\", personality=\"Brain_Powerhouse\"):\n",
    "        self.name = name\n",
    "        self.personality = personality\n",
    "        self.model = \"llama3.2:3b\"\n",
    "        self.collection = collection  # Use the ChromaDB collection\n",
    "        \n",
    "        # Agent personality definitions\n",
    "        self.personalities = {\n",
    "            \"Brain_Powerhouse\": {\n",
    "                \"role\": \"experienced technical mentor and coding companion\",\n",
    "                \"traits\": [\n",
    "                    \"Patient and encouraging\",\n",
    "                    \"Explains complex concepts clearly\", \n",
    "                    \"Remembers your learning journey\",\n",
    "                    \"Builds on your existing knowledge\",\n",
    "                    \"Provides practical examples\"\n",
    "                ],\n",
    "                \"style\": \"friendly but professional, uses examples from your tech interests\"\n",
    "            },\n",
    "            \"creative_problem_solver\": {\n",
    "                \"role\": \"innovative problem-solving partner\",\n",
    "                \"traits\": [\n",
    "                    \"Thinks outside the box\",\n",
    "                    \"Connects ideas creatively\",\n",
    "                    \"Remembers your project goals\",\n",
    "                    \"Suggests novel approaches\"\n",
    "                ],\n",
    "                \"style\": \"enthusiastic and creative, makes unexpected connections\"\n",
    "            }\n",
    "        }\n",
    "        \n",
    "        print(f\" AI Agent '{self.name}' initialized!\")\n",
    "        print(f\" Personality: {personality}\")\n",
    "        print(f\" Connected to memory with {self.collection.count()} stored conversations\")\n",
    "    \n",
    "    def get_personality_prompt(self):\n",
    "        \"\"\"Get the personality-specific system prompt\"\"\"\n",
    "        personality_info = self.personalities.get(self.personality, self.personalities[\"helpful_technical_mentor\"])\n",
    "        \n",
    "        prompt = f\"\"\"You are {self.name}, a {personality_info['role']} with persistent memory.\n",
    "\n",
    "PERSONALITY TRAITS:\n",
    "{chr(10).join(f\"- {trait}\" for trait in personality_info['traits'])}\n",
    "\n",
    "COMMUNICATION STYLE: {personality_info['style']}\n",
    "\n",
    "CORE BEHAVIOR:\n",
    "- Always maintain this personality consistently across conversations\n",
    "- Reference past conversations naturally when relevant\n",
    "- Show genuine interest in the user's learning and project progress\n",
    "- Build upon previous discussions to create continuity\n",
    "- Adapt your technical depth to match the user's demonstrated skill level\"\"\"\n",
    "        \n",
    "        return prompt\n",
    "\n",
    "# Create our AI agent\n",
    "agent = MemoryEnhancedAgent(name=\"Bruno\", personality=\"Brain_Powerhouse\")\n",
    "print(\"\\n\" + \"=\"*60)\n",
    "print(\"✅ AI Agent created successfully!\")"
   ]
  },
  {
   "cell_type": "code",
   "execution_count": null,
   "id": "0e7ad2d6",
   "metadata": {},
   "outputs": [],
   "source": []
  }
 ],
 "metadata": {
  "kernelspec": {
   "display_name": "venv",
   "language": "python",
   "name": "python3"
  },
  "language_info": {
   "codemirror_mode": {
    "name": "ipython",
    "version": 3
   },
   "file_extension": ".py",
   "mimetype": "text/x-python",
   "name": "python",
   "nbconvert_exporter": "python",
   "pygments_lexer": "ipython3",
   "version": "3.13.7"
  }
 },
 "nbformat": 4,
 "nbformat_minor": 5
}
