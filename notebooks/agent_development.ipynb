{
 "cells": [
  {
   "cell_type": "markdown",
   "id": "2d80edb0",
   "metadata": {},
   "source": [
    "# Memory Enhanced AI Agent\n",
    "\n",
    "This notebook focuses on building an AI agent with persistent memory capabilities and personality.\n",
    "\n",
    "## What we will build in this notebook:\n",
    "1. **Agent Personality** - Consistent character and role definition\n",
    "2. **Memory Learning** - Automatically save new conversations to memory\n",
    "3. **Enhanced Agent Functions** - Advanced memory management and conversation handling\n",
    "4. **Interactive Agent** - Natural conversation flow with context continuity\n"
   ]
  },
  {
   "cell_type": "code",
   "execution_count": 4,
   "id": "3cd3b52c",
   "metadata": {},
   "outputs": [
    {
     "name": "stdout",
     "output_type": "stream",
     "text": [
      " Building Memory Enhanced AI Agent\n",
      "============================================================\n",
      " Connected to persistent memory system\n",
      " Current memories stored: 10\n",
      " Collection name: conversation_memory\n"
     ]
    }
   ],
   "source": [
    "#  we will Import libraries and connect to existing memory system the chroma db\n",
    "\n",
    "import chromadb\n",
    "import ollama\n",
    "from datetime import datetime\n",
    "import json\n",
    "import uuid\n",
    "\n",
    "print(\" Building Memory Enhanced AI Agent\")\n",
    "print(\"=\" * 60)\n",
    "\n",
    "# Connect to our persistent memory from Phase 1 & 2\n",
    "client = chromadb.PersistentClient(path=\"./chroma_db\")\n",
    "collection = client.get_collection(name=\"conversation_memory\")\n",
    "\n",
    "#above is the same memory collection that we are using\n",
    "\n",
    "print(\" Connected to persistent memory system\")\n",
    "print(f\" Current memories stored: {collection.count()}\")\n",
    "print(f\" Collection name: {collection.name}\")\n"
   ]
  },
  {
   "cell_type": "code",
   "execution_count": null,
   "id": "b709a278",
   "metadata": {},
   "outputs": [],
   "source": []
  }
 ],
 "metadata": {
  "kernelspec": {
   "display_name": "venv",
   "language": "python",
   "name": "python3"
  },
  "language_info": {
   "codemirror_mode": {
    "name": "ipython",
    "version": 3
   },
   "file_extension": ".py",
   "mimetype": "text/x-python",
   "name": "python",
   "nbconvert_exporter": "python",
   "pygments_lexer": "ipython3",
   "version": "3.13.7"
  }
 },
 "nbformat": 4,
 "nbformat_minor": 5
}
