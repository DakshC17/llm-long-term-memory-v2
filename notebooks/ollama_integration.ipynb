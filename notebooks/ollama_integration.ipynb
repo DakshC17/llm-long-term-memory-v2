{
 "cells": [
  {
   "cell_type": "markdown",
   "id": "152fc514",
   "metadata": {},
   "source": [
    "## Ollama Integration\n",
    "\n",
    "This notebook focuses on integrating a local LLM (Ollama) with our memory system.\n",
    "\n"
   ]
  },
  {
   "cell_type": "markdown",
   "id": "330dcacf",
   "metadata": {},
   "source": [
    "## Step 1: Install Ollama\n",
    "\n",
    "Before we proceed, you need to install Ollama on your system.\n",
    "\n",
    "### Installation Command:\n",
    "```bash\n",
    "curl -fsSL https://ollama.ai/install.sh | sh\n",
    "\n",
    "\n",
    "For Linux/WSL\n",
    "wget -qO- https://ollama.ai/install.sh | sh"
   ]
  },
  {
   "cell_type": "markdown",
   "id": "b3d979db",
   "metadata": {},
   "source": [
    "Now verify the installation\n",
    "```bash\n",
    "ollama --version"
   ]
  },
  {
   "cell_type": "markdown",
   "id": "d57675d6",
   "metadata": {},
   "source": [
    "## Step 2: Install Ollama Python Client\n",
    "\n",
    "Now we will install the Python client library to communicate with Ollama from our code.\n",
    "\n",
    "### Installation Command:\n",
    "```bash\n",
    "pip install ollama"
   ]
  },
  {
   "cell_type": "markdown",
   "id": "e796c5ed",
   "metadata": {},
   "source": [
    "## Step 3: Download LLM Model\n",
    "\n",
    "Now let's download a language model to use with our memory system.\n",
    "\n",
    "### Recommended Model (Lightweight):\n",
    "```bash\n",
    "ollama pull llama3.2:3b"
   ]
  },
  {
   "cell_type": "markdown",
   "id": "a8fe37f4",
   "metadata": {},
   "source": [
    "### Verify Model Installation\n",
    "\n",
    "``` bash\n",
    "ollama list"
   ]
  },
  {
   "cell_type": "markdown",
   "id": "14330e33",
   "metadata": {},
   "source": [
    "### Test the model now\n",
    "``` bash \n",
    "ollama run llama3.2:3b\n",
    "# Type a test message and exit."
   ]
  },
  {
   "cell_type": "code",
   "execution_count": 5,
   "id": "89d3c651",
   "metadata": {},
   "outputs": [
    {
     "name": "stdout",
     "output_type": "stream",
     "text": [
      "Testing Llama 3.2 model...\n",
      "Model is working!\n",
      "========================================================================================================================================================================================================\n",
      "Response: Hello! I'm an artificial intelligence model, which means I'm a computer program designed to simulate conversations and answer questions to the best of my knowledge. I don't have a personal identity or physical presence, but I'm here to help and provide information on a wide range of topics.\n",
      "\n",
      "I can assist with tasks such as:\n",
      "\n",
      "* Answering questions\n",
      "* Generating text\n",
      "* Translating languages\n",
      "* Summarizing content\n",
      "* And more!\n",
      "\n",
      "Feel free to ask me anything, and I'll do my best to help. How can I assist you today?\n"
     ]
    }
   ],
   "source": [
    "## We will just test the model with a small snippet,,\n",
    "\n",
    "import ollama\n",
    "\n",
    "print(\"Testing Llama 3.2 model...\")\n",
    "\n",
    "try:\n",
    "    # Simple test conversation for checking..\n",
    "    response = ollama.chat(\n",
    "        model='llama3.2:3b',\n",
    "        messages=[\n",
    "            {\n",
    "                'role': 'user',\n",
    "                'content': 'Hello! who are you?'\n",
    "            }\n",
    "        ]\n",
    "    )\n",
    "    \n",
    "    print(\"Model is working!\")\n",
    "    print(\"=\"*200)\n",
    "    print(f\"Response: {response['message']['content']}\")\n",
    "    \n",
    "except Exception as e:\n",
    "    print(f\"Error: {e}\")"
   ]
  },
  {
   "cell_type": "code",
   "execution_count": null,
   "id": "5ad44910",
   "metadata": {},
   "outputs": [],
   "source": []
  }
 ],
 "metadata": {
  "kernelspec": {
   "display_name": "venv",
   "language": "python",
   "name": "python3"
  },
  "language_info": {
   "codemirror_mode": {
    "name": "ipython",
    "version": 3
   },
   "file_extension": ".py",
   "mimetype": "text/x-python",
   "name": "python",
   "nbconvert_exporter": "python",
   "pygments_lexer": "ipython3",
   "version": "3.13.7"
  }
 },
 "nbformat": 4,
 "nbformat_minor": 5
}
