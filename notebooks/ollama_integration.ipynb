{
 "cells": [
  {
   "cell_type": "markdown",
   "id": "152fc514",
   "metadata": {},
   "source": [
    "## Ollama Integration\n",
    "\n",
    "This notebook focuses on integrating a local LLM (Ollama) with our memory system.\n",
    "\n"
   ]
  },
  {
   "cell_type": "markdown",
   "id": "330dcacf",
   "metadata": {},
   "source": [
    "## Step 1: Install Ollama\n",
    "\n",
    "Before we proceed, you need to install Ollama on your system.\n",
    "\n",
    "### Installation Command:\n",
    "```bash\n",
    "curl -fsSL https://ollama.ai/install.sh | sh\n",
    "\n",
    "\n",
    "For Linux/WSL\n",
    "wget -qO- https://ollama.ai/install.sh | sh"
   ]
  },
  {
   "cell_type": "markdown",
   "id": "b3d979db",
   "metadata": {},
   "source": [
    "Now verify the installation\n",
    "```bash\n",
    "ollama --version"
   ]
  },
  {
   "cell_type": "markdown",
   "id": "d57675d6",
   "metadata": {},
   "source": [
    "## Step 2: Install Ollama Python Client\n",
    "\n",
    "Now we will install the Python client library to communicate with Ollama from our code.\n",
    "\n",
    "### Installation Command:\n",
    "```bash\n",
    "pip install ollama"
   ]
  },
  {
   "cell_type": "markdown",
   "id": "7ab64c19",
   "metadata": {},
   "source": []
  }
 ],
 "metadata": {
  "kernelspec": {
   "display_name": "venv",
   "language": "python",
   "name": "python3"
  },
  "language_info": {
   "name": "python",
   "version": "3.13.7"
  }
 },
 "nbformat": 4,
 "nbformat_minor": 5
}
