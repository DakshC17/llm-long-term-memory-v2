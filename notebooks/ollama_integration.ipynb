{
 "cells": [
  {
   "cell_type": "markdown",
   "id": "152fc514",
   "metadata": {},
   "source": [
    "## Ollama Integration\n",
    "\n",
    "This notebook focuses on integrating a local LLM (Ollama) with our memory system.\n",
    "\n"
   ]
  },
  {
   "cell_type": "markdown",
   "id": "330dcacf",
   "metadata": {},
   "source": [
    "## Step 1: Install Ollama\n",
    "\n",
    "Before we proceed, you need to install Ollama on your system.\n",
    "\n",
    "### Installation Command:\n",
    "```bash\n",
    "curl -fsSL https://ollama.ai/install.sh | sh\n",
    "\n",
    "\n",
    "For Linux/WSL\n",
    "wget -qO- https://ollama.ai/install.sh | sh"
   ]
  },
  {
   "cell_type": "markdown",
   "id": "b3d979db",
   "metadata": {},
   "source": [
    "Now verify the installation\n",
    "```bash\n",
    "ollama --version"
   ]
  },
  {
   "cell_type": "markdown",
   "id": "d57675d6",
   "metadata": {},
   "source": [
    "## Step 2: Install Ollama Python Client\n",
    "\n",
    "Now we will install the Python client library to communicate with Ollama from our code.\n",
    "\n",
    "### Installation Command:\n",
    "```bash\n",
    "pip install ollama"
   ]
  },
  {
   "cell_type": "markdown",
   "id": "e796c5ed",
   "metadata": {},
   "source": [
    "## Step 3: Download LLM Model\n",
    "\n",
    "Now let's download a language model to use with our memory system.\n",
    "\n",
    "### Recommended Model (Lightweight):\n",
    "```bash\n",
    "ollama pull llama3.2:3b"
   ]
  },
  {
   "cell_type": "markdown",
   "id": "a8fe37f4",
   "metadata": {},
   "source": [
    "### Verify Model Installation\n",
    "\n",
    "``` bash\n",
    "ollama list"
   ]
  },
  {
   "cell_type": "markdown",
   "id": "14330e33",
   "metadata": {},
   "source": [
    "### Test the model now\n",
    "``` bash \n",
    "ollama run llama3.2:3b\n",
    "# Type a test message and exit."
   ]
  },
  {
   "cell_type": "code",
   "execution_count": 5,
   "id": "89d3c651",
   "metadata": {},
   "outputs": [
    {
     "name": "stdout",
     "output_type": "stream",
     "text": [
      "Testing Llama 3.2 model...\n",
      "Model is working!\n",
      "========================================================================================================================================================================================================\n",
      "Response: Hello! I'm an artificial intelligence model, which means I'm a computer program designed to simulate conversations and answer questions to the best of my knowledge. I don't have a personal identity or physical presence, but I'm here to help and provide information on a wide range of topics.\n",
      "\n",
      "I can assist with tasks such as:\n",
      "\n",
      "* Answering questions\n",
      "* Generating text\n",
      "* Translating languages\n",
      "* Summarizing content\n",
      "* And more!\n",
      "\n",
      "Feel free to ask me anything, and I'll do my best to help. How can I assist you today?\n"
     ]
    }
   ],
   "source": [
    "## We will just test the model with a small snippet,,\n",
    "\n",
    "import ollama\n",
    "\n",
    "print(\"Testing Llama 3.2 model...\")\n",
    "\n",
    "try:\n",
    "    # Simple test conversation for checking..\n",
    "    response = ollama.chat(\n",
    "        model='llama3.2:3b',\n",
    "        messages=[\n",
    "            {\n",
    "                'role': 'user',\n",
    "                'content': 'Hello! who are you?'\n",
    "            }\n",
    "        ]\n",
    "    )\n",
    "    \n",
    "    print(\"Model is working!\")\n",
    "    print(\"=\"*200)\n",
    "    print(f\"Response: {response['message']['content']}\")\n",
    "    \n",
    "except Exception as e:\n",
    "    print(f\"Error: {e}\")"
   ]
  },
  {
   "cell_type": "markdown",
   "id": "d070ff75",
   "metadata": {},
   "source": [
    "## Step 4: Connect Ollama with Memory Database\n",
    "\n",
    "Now we'll integrate our LLM (Ollama) with the memory system we built in setup_vectorydb notebook.\n",
    "\n",
    "### What we're going to do:\n",
    "1. **Import ChromaDB** - Same as setup_vectordb notebook to access our memory\n",
    "2. **Connect to existing collection** - Get our stored conversations\n",
    "3. **Create memory-aware function** - Combine memory search + LLM response\n",
    "4. **Test the integration** - See how LLM uses past conversations\n",
    "\n",
    "### Below is the code for doing the above things (Most of the things we did earlier in setup_vectordb notebook)"
   ]
  },
  {
   "cell_type": "code",
   "execution_count": 15,
   "id": "8020afb0",
   "metadata": {},
   "outputs": [
    {
     "name": "stdout",
     "output_type": "stream",
     "text": [
      "Connecting Ollama with Memory Database...\n",
      "✅ Connected to existing memory collection!\n",
      " Total memories available: 10\n",
      " Collection name: conversation_memory\n",
      "\n",
      "====================================================================================================\n",
      " Memory-LLM Integration Setup Complete!\n"
     ]
    }
   ],
   "source": [
    "# Step 4A: Import required libraries\n",
    "import chromadb\n",
    "import ollama\n",
    "from datetime import datetime\n",
    "import json\n",
    "\n",
    "print(\"Connecting Ollama with Memory Database...\")\n",
    "\n",
    "# Step 4B: Connect to existing persistent ChromaDB from Phase 1\n",
    "client = chromadb.PersistentClient(path=\"./chroma_db\")\n",
    "\n",
    "# Get the existing collection created in Phase 1\n",
    "collection = client.get_collection(name=\"conversation_memory\")\n",
    "\n",
    "print(\"✅ Connected to existing memory collection!\")\n",
    "print(f\" Total memories available: {collection.count()}\")\n",
    "print(f\" Collection name: {collection.name}\")\n",
    "\n",
    "print(\"\\n\" + \"=\"*100)\n",
    "print(\" Memory-LLM Integration Setup Complete!\")\n"
   ]
  },
  {
   "cell_type": "markdown",
   "id": "7463f646",
   "metadata": {},
   "source": [
    "## Create Memory-Aware Chat Function\n",
    "### What we will buil now is:\n",
    "\n",
    "1. **Search function** - Find relevant past conversations\n",
    "2. **Context builder** - Format memory for LLM prompt\n",
    "3. **Memory aware chat** - LLM that uses conversation history\n",
    "4. **Test it** - See how memory improves responses"
   ]
  },
  {
   "cell_type": "code",
   "execution_count": 18,
   "id": "ea1ec54e",
   "metadata": {},
   "outputs": [
    {
     "name": "stdout",
     "output_type": "stream",
     "text": [
      "✅ Memory aware chat function created!\n"
     ]
    }
   ],
   "source": [
    "def search_memory(query, top_k=3):\n",
    "    \"\"\"\n",
    "    Search for relevant past conversations based on the query\n",
    "    \"\"\"\n",
    "    print(f\" Searching memory for: '{query}'\")\n",
    "    \n",
    "    # Search for similar conversations\n",
    "    results = collection.query(\n",
    "        query_texts=[query],\n",
    "        n_results=top_k\n",
    "    )\n",
    "    \n",
    "    print(f\" Found {len(results['documents'][0])} relevant memories\")\n",
    "    return results\n",
    "\n",
    "def format_memory_context(search_results):\n",
    "    \"\"\"\n",
    "    Format search results into context for the LLM\n",
    "    \"\"\"\n",
    "    if not search_results['documents'][0]:\n",
    "        return \"No relevant conversation history found.\"\n",
    "    \n",
    "    context = \"=== RELEVANT CONVERSATION HISTORY ===\\n\\n\"\n",
    "    \n",
    "    for i, (doc, metadata) in enumerate(zip(\n",
    "        search_results['documents'][0], \n",
    "        search_results['metadatas'][0]\n",
    "    )):\n",
    "        context += f\"Memory {i+1}:\\n\"\n",
    "        context += f\"Content: {doc}\\n\"\n",
    "        context += f\"Topic: {metadata.get('topic', 'Unknown')}\\n\"\n",
    "        context += f\"User Skill Level: {metadata.get('user_level', 'Unknown')}\\n\"\n",
    "        context += f\"Technology: {metadata.get('tech_stack', 'Unknown')}\\n\"\n",
    "        context += f\"Timestamp: {metadata.get('timestamp', 'Unknown')}\\n\"\n",
    "        context += \"-\" * 50 + \"\\n\\n\"\n",
    "    \n",
    "    return context\n",
    "\n",
    "def memory_chat(user_message, use_memory=True):\n",
    "    \"\"\"\n",
    "    Chat with LLM using conversation memory for context\n",
    "    \"\"\"\n",
    "    print(\"=\"*100)\n",
    "    print(f\" User: {user_message}\")\n",
    "    print(\"=\"*100)\n",
    "    \n",
    "    # now we will build a very detailed and contextual  prompt\n",
    "    if use_memory:\n",
    "        # Searching  for relevant memorie\n",
    "        memory_results = search_memory(user_message)\n",
    "        memory_context = format_memory_context(memory_results)\n",
    "        \n",
    "        # what i have done is that i have enhanced professional system prompt with memory\n",
    "        system_prompt = f\"\"\"You are an advanced AI assistant with persistent memory capabilities. Your primary objective is to provide highly personalized, contextually-aware responses based on the user's conversation history and demonstrated preferences.\n",
    "\n",
    "{memory_context}\n",
    "\n",
    "CORE INSTRUCTIONS:\n",
    "1. MEMORY UTILIZATION: Always reference and build upon the provided conversation history to demonstrate continuity and understanding of the user's background, interests, and expertise levels.\n",
    "\n",
    "2. PERSONALIZATION: Adapt your communication style, technical depth, and examples to match the user's demonstrated skill level and interests from previous conversations.\n",
    "\n",
    "3. CONTEXTUAL AWARENESS: Connect current questions to past discussions when relevant, showing how topics relate to the user's ongoing projects or learning journey.\n",
    "\n",
    "4. CONSISTENCY: Maintain awareness of the user's preferences, previously discussed technologies, and established context across all interactions.\n",
    "\n",
    "5. PROGRESSIVE LEARNING: Build upon previous conversations to offer increasingly sophisticated insights and recommendations that align with the user's growing expertise.\n",
    "\n",
    "6. RELEVANCE FILTERING: Only reference historical context that is directly relevant to the current query - avoid overwhelming responses with unnecessary background information.\n",
    "\n",
    "7. ACKNOWLEDGE LIMITATIONS: If the conversation history doesn't contain relevant information for the current query, explicitly state this and provide the best possible response based on available context.\n",
    "\n",
    "RESPONSE REQUIREMENTS:\n",
    "- Be specific and actionable\n",
    "- Reference relevant past discussions naturally  \n",
    "- Maintain professional yet personable tone\n",
    "- Provide depth appropriate to user's demonstrated skill level\n",
    "- Offer practical next steps when applicable\n",
    "- Use examples that align with user's known interests and experience level\n",
    "\n",
    "TECHNICAL CONTEXT AWARENESS:\n",
    "- Consider the user's demonstrated expertise with specific technologies\n",
    "- Build upon their known project context and learning goals\n",
    "- Suggest resources appropriate to their skill progression\n",
    "- Connect new concepts to their established knowledge base\n",
    "\n",
    "Respond to the user's current message while seamlessly integrating insights from their conversation history to provide the most helpful and contextually appropriate response possible.\"\"\"\n",
    "    else:\n",
    "        system_prompt = \"\"\"You are a helpful AI assistant. Provide clear, accurate, and contextually appropriate responses to user queries. Be professional, concise, and ensure your answers are actionable and well-structured.\"\"\"\n",
    "    \n",
    "    # Chat with Ollama\n",
    "    try:\n",
    "        response = ollama.chat(\n",
    "            model='llama3.2:3b',\n",
    "            messages=[\n",
    "                {'role': 'system', 'content': system_prompt},\n",
    "                {'role': 'user', 'content': user_message}\n",
    "            ]\n",
    "        )\n",
    "        \n",
    "        ai_response = response['message']['content']\n",
    "        print(f\" AI Response:\\n{ai_response}\")\n",
    "        \n",
    "        return ai_response\n",
    "        \n",
    "    except Exception as e:\n",
    "        print(f\" Error: {e}\")\n",
    "        return None\n",
    "\n",
    "print(\"✅ Memory aware chat function created!\")\n"
   ]
  },
  {
   "cell_type": "markdown",
   "id": "7c675e86",
   "metadata": {},
   "source": [
    "### Basic Test script for Testing our function"
   ]
  },
  {
   "cell_type": "code",
   "execution_count": 21,
   "id": "fc42d10a",
   "metadata": {},
   "outputs": [
    {
     "name": "stdout",
     "output_type": "stream",
     "text": [
      " Testing Memory-Aware Chat System\n",
      "============================================================\n",
      "\n",
      " TEST 1: Asking about Python\n",
      "====================================================================================================\n",
      " User: What can you tell me about Python programming?\n",
      "====================================================================================================\n",
      " Searching memory for: 'What can you tell me about Python programming?'\n",
      " Found 3 relevant memories\n",
      " AI Response:\n",
      "Python! As someone who has expressed enthusiasm for Python in our previous conversations, I'd be happy to dive deeper into this fantastic language.\n",
      "\n",
      "From what we've discussed before, it's clear that you have a solid foundation in Python and are likely looking for more advanced topics or possibly seeking advice on how to apply your skills in real-world projects.\n",
      "\n",
      "Here are some key aspects of Python programming that I think would be worth exploring:\n",
      "\n",
      "1. **Data Science with NumPy, Pandas, and Scikit-learn**: As someone interested in data science, you're probably familiar with the popular libraries like NumPy, Pandas, and Scikit-learn. These libraries provide an efficient way to manipulate and analyze data, making it a crucial tool for data scientists.\n",
      "2. **Machine Learning with TensorFlow or Keras**: Given your interest in machine learning, I'd recommend checking out TensorFlow or Keras. Both frameworks offer powerful tools for building and training models, but they cater to different needs and skill levels.\n",
      "3. **Web Development with Flask or Django**: If you're looking to build web applications, Flask and Django are two popular choices that can help you get started quickly. Flask is a microframework ideal for small projects, while Django provides an out-of-the-box solution for larger, more complex apps.\n",
      "4. **Automation and Scripting**: Python's syntax and nature make it an excellent choice for automation tasks. You can use libraries like `schedule` or `apscheduler` to schedule tasks, or automate system administration tasks using tools like `paramiko`.\n",
      "\n",
      "What specific areas of Python programming would you like to explore further? Are there any particular projects or challenges that you're facing, and I can offer guidance on how to overcome them?\n",
      "\n",
      "(By the way, I noticed your advanced skill level in our previous conversation. If you'd like, we can discuss some more advanced topics, such as concurrency with `asyncio` or using Python's type hints for better code organization.)\n"
     ]
    },
    {
     "data": {
      "text/plain": [
       "\"Python! As someone who has expressed enthusiasm for Python in our previous conversations, I'd be happy to dive deeper into this fantastic language.\\n\\nFrom what we've discussed before, it's clear that you have a solid foundation in Python and are likely looking for more advanced topics or possibly seeking advice on how to apply your skills in real-world projects.\\n\\nHere are some key aspects of Python programming that I think would be worth exploring:\\n\\n1. **Data Science with NumPy, Pandas, and Scikit-learn**: As someone interested in data science, you're probably familiar with the popular libraries like NumPy, Pandas, and Scikit-learn. These libraries provide an efficient way to manipulate and analyze data, making it a crucial tool for data scientists.\\n2. **Machine Learning with TensorFlow or Keras**: Given your interest in machine learning, I'd recommend checking out TensorFlow or Keras. Both frameworks offer powerful tools for building and training models, but they cater to different needs and skill levels.\\n3. **Web Development with Flask or Django**: If you're looking to build web applications, Flask and Django are two popular choices that can help you get started quickly. Flask is a microframework ideal for small projects, while Django provides an out-of-the-box solution for larger, more complex apps.\\n4. **Automation and Scripting**: Python's syntax and nature make it an excellent choice for automation tasks. You can use libraries like `schedule` or `apscheduler` to schedule tasks, or automate system administration tasks using tools like `paramiko`.\\n\\nWhat specific areas of Python programming would you like to explore further? Are there any particular projects or challenges that you're facing, and I can offer guidance on how to overcome them?\\n\\n(By the way, I noticed your advanced skill level in our previous conversation. If you'd like, we can discuss some more advanced topics, such as concurrency with `asyncio` or using Python's type hints for better code organization.)\""
      ]
     },
     "execution_count": 21,
     "metadata": {},
     "output_type": "execute_result"
    }
   ],
   "source": [
    "# Step 6: Test Memory-Aware Chat Function\n",
    "\n",
    "print(\" Testing Memory-Aware Chat System\")\n",
    "print(\"=\" * 60)\n",
    "\n",
    "# Test 1: Ask about Python (should find relevant memories)\n",
    "print(\"\\n TEST 1: Asking about Python\")\n",
    "memory_chat(\"What can you tell me about Python programming?\")\n"
   ]
  },
  {
   "cell_type": "code",
   "execution_count": 22,
   "id": "13ddedc8",
   "metadata": {},
   "outputs": [
    {
     "name": "stdout",
     "output_type": "stream",
     "text": [
      " TEST 2: Asking about AI and Machine Learning\n",
      "====================================================================================================\n",
      " User: I'm interested in machine learning. Can you help?\n",
      "====================================================================================================\n",
      " Searching memory for: 'I'm interested in machine learning. Can you help?'\n",
      " Found 3 relevant memories\n",
      " AI Response:\n",
      "Machine learning! I'd be delighted to help.\n",
      "\n",
      "Since we discussed machine learning previously, I'll assume you have a solid foundation in the basics. If not, don't worry – I can refresh your memory or introduce new concepts tailored to your skill level.\n",
      "\n",
      "To get started, could you please share what aspect of machine learning you're interested in exploring further? Are you looking into:\n",
      "\n",
      "1. Supervised/unsupervised learning?\n",
      "2. Deep learning techniques (e.g., neural networks)?\n",
      "3. Specific applications like natural language processing (NLP) or computer vision?\n",
      "4. Model evaluation and hyperparameter tuning?\n",
      "\n",
      "Let me know, and I'll do my best to provide targeted guidance, examples, or resources that align with your interests and expertise level.\n",
      "\n",
      "(By the way, I noticed you mentioned vector databases and embeddings in a previous conversation. If you'd like, we could explore how machine learning concepts intersect with those topics – just let me know!)\n"
     ]
    },
    {
     "data": {
      "text/plain": [
       "\"Machine learning! I'd be delighted to help.\\n\\nSince we discussed machine learning previously, I'll assume you have a solid foundation in the basics. If not, don't worry – I can refresh your memory or introduce new concepts tailored to your skill level.\\n\\nTo get started, could you please share what aspect of machine learning you're interested in exploring further? Are you looking into:\\n\\n1. Supervised/unsupervised learning?\\n2. Deep learning techniques (e.g., neural networks)?\\n3. Specific applications like natural language processing (NLP) or computer vision?\\n4. Model evaluation and hyperparameter tuning?\\n\\nLet me know, and I'll do my best to provide targeted guidance, examples, or resources that align with your interests and expertise level.\\n\\n(By the way, I noticed you mentioned vector databases and embeddings in a previous conversation. If you'd like, we could explore how machine learning concepts intersect with those topics – just let me know!)\""
      ]
     },
     "execution_count": 22,
     "metadata": {},
     "output_type": "execute_result"
    }
   ],
   "source": [
    "# Test 2: Ask about AI/ML (should find relevant memories) \n",
    "print(\" TEST 2: Asking about AI and Machine Learning\")\n",
    "memory_chat(\"I'm interested in machine learning. Can you help?\")"
   ]
  },
  {
   "cell_type": "code",
   "execution_count": 23,
   "id": "8eaa9883",
   "metadata": {},
   "outputs": [
    {
     "name": "stdout",
     "output_type": "stream",
     "text": [
      " TEST 3: Asking about cooking (unrelated topic)\n",
      "====================================================================================================\n",
      " User: How do I make pasta?\n",
      "====================================================================================================\n",
      " Searching memory for: 'How do I make pasta?'\n",
      " Found 3 relevant memories\n",
      " AI Response:\n",
      "Making pasta from scratch - a classic Italian tradition! As you're likely familiar with, making pasta is more than just boiling some noodles; it's an art that requires attention to detail, quality ingredients, and a bit of love.\n",
      "\n",
      "To get started, let's talk about the basics. You'll need some simple tools and ingredients:\n",
      "\n",
      "**Tools:**\n",
      "\n",
      "* Stand mixer or hand-cranked pasta machine\n",
      "* Kneading surface (wooden board or countertop)\n",
      "* Rolling pin\n",
      "* Cutting tool (pasta cutter or sharp knife)\n",
      "\n",
      "**Ingredients:**\n",
      "\n",
      "* 1 cup all-purpose flour (preferably \"00\" or caputo flour)\n",
      "* 1 large egg\n",
      "* Salt, to taste\n",
      "\n",
      "Now that we have our ingredients and tools, let's dive into the process.\n",
      "\n",
      "**Step 1: Create the Dough**\n",
      "\n",
      "In a large mixing bowl, combine your flour and salt. Make a well in the center of the flour mixture and crack your egg into it. Using a fork, gently incorporate the flour into the egg, starting from the inner rim of the well. As you mix, add more flour if needed to achieve a smooth, pliable dough.\n",
      "\n",
      "**Step 2: Knead the Dough**\n",
      "\n",
      "Transfer the dough to your kneading surface and begin kneading using a pushing-down motion with the heel of your hand, followed by a folding motion with your fingers. Repeat this process for about 10 minutes, until the dough becomes smooth, elastic, and slightly firm to the touch.\n",
      "\n",
      "**Step 3: Rest the Dough**\n",
      "\n",
      "Wrap your dough in plastic wrap or a damp cloth and let it rest at room temperature for at least 30 minutes. This will allow the gluten to relax, making the dough easier to roll out.\n",
      "\n",
      "**Step 4: Roll Out the Dough**\n",
      "\n",
      "Divide your rested dough into 4 equal pieces. Using your stand mixer or hand-cranked pasta machine, roll out each piece of dough to a thickness of about 1/16 inch (1.5 mm).\n",
      "\n",
      "**Step 5: Cut Your Pasta**\n",
      "\n",
      "Using your cutting tool, cut your rolled-out dough into the desired shape - spaghetti, fettuccine, pappardelle, or whatever your heart desires! If you're new to pasta-making, start with a simple shape like spaghetti.\n",
      "\n",
      "**Step 6: Dry and Cook**\n",
      "\n",
      "Place your freshly cut pasta on a clean towel or pasta drying rack to dry for at least 30 minutes. Then, bring a large pot of salted water to a boil and cook your pasta for 2-4 minutes, depending on the shape and thickness.\n",
      "\n",
      "Now that you've learned the basics of making pasta, I'm curious - which type of pasta would you like to make first? Do you have any specific questions or concerns about the process?\n",
      "\n",
      "(By the way, since we last discussed vector databases and embeddings, I couldn't help but think that using a similar 'vector approach' in your pasta-making journey could be an interesting analogy...\n"
     ]
    },
    {
     "data": {
      "text/plain": [
       "'Making pasta from scratch - a classic Italian tradition! As you\\'re likely familiar with, making pasta is more than just boiling some noodles; it\\'s an art that requires attention to detail, quality ingredients, and a bit of love.\\n\\nTo get started, let\\'s talk about the basics. You\\'ll need some simple tools and ingredients:\\n\\n**Tools:**\\n\\n* Stand mixer or hand-cranked pasta machine\\n* Kneading surface (wooden board or countertop)\\n* Rolling pin\\n* Cutting tool (pasta cutter or sharp knife)\\n\\n**Ingredients:**\\n\\n* 1 cup all-purpose flour (preferably \"00\" or caputo flour)\\n* 1 large egg\\n* Salt, to taste\\n\\nNow that we have our ingredients and tools, let\\'s dive into the process.\\n\\n**Step 1: Create the Dough**\\n\\nIn a large mixing bowl, combine your flour and salt. Make a well in the center of the flour mixture and crack your egg into it. Using a fork, gently incorporate the flour into the egg, starting from the inner rim of the well. As you mix, add more flour if needed to achieve a smooth, pliable dough.\\n\\n**Step 2: Knead the Dough**\\n\\nTransfer the dough to your kneading surface and begin kneading using a pushing-down motion with the heel of your hand, followed by a folding motion with your fingers. Repeat this process for about 10 minutes, until the dough becomes smooth, elastic, and slightly firm to the touch.\\n\\n**Step 3: Rest the Dough**\\n\\nWrap your dough in plastic wrap or a damp cloth and let it rest at room temperature for at least 30 minutes. This will allow the gluten to relax, making the dough easier to roll out.\\n\\n**Step 4: Roll Out the Dough**\\n\\nDivide your rested dough into 4 equal pieces. Using your stand mixer or hand-cranked pasta machine, roll out each piece of dough to a thickness of about 1/16 inch (1.5 mm).\\n\\n**Step 5: Cut Your Pasta**\\n\\nUsing your cutting tool, cut your rolled-out dough into the desired shape - spaghetti, fettuccine, pappardelle, or whatever your heart desires! If you\\'re new to pasta-making, start with a simple shape like spaghetti.\\n\\n**Step 6: Dry and Cook**\\n\\nPlace your freshly cut pasta on a clean towel or pasta drying rack to dry for at least 30 minutes. Then, bring a large pot of salted water to a boil and cook your pasta for 2-4 minutes, depending on the shape and thickness.\\n\\nNow that you\\'ve learned the basics of making pasta, I\\'m curious - which type of pasta would you like to make first? Do you have any specific questions or concerns about the process?\\n\\n(By the way, since we last discussed vector databases and embeddings, I couldn\\'t help but think that using a similar \\'vector approach\\' in your pasta-making journey could be an interesting analogy...'"
      ]
     },
     "execution_count": 23,
     "metadata": {},
     "output_type": "execute_result"
    }
   ],
   "source": [
    "# Test 3: Ask about something unrelated (should have limited memory)\n",
    "print(\" TEST 3: Asking about cooking (unrelated topic)\")\n",
    "memory_chat(\"How do I make pasta?\")"
   ]
  },
  {
   "cell_type": "code",
   "execution_count": 24,
   "id": "8e54a811",
   "metadata": {},
   "outputs": [
    {
     "name": "stdout",
     "output_type": "stream",
     "text": [
      " TEST 4: Same Python question WITHOUT memory\n",
      "====================================================================================================\n",
      " User: What can you tell me about Python programming?\n",
      "====================================================================================================\n",
      " AI Response:\n",
      "Python is a high-level, interpreted programming language that is widely used for various purposes such as web development, scientific computing, data analysis, artificial intelligence, and more. Here are some key features and facts about Python:\n",
      "\n",
      "**Key Features:**\n",
      "\n",
      "1. **Easy to learn**: Python has a simple syntax and is relatively easy to read and write, making it a great language for beginners.\n",
      "2. **High-level language**: Python abstracts away many low-level details, allowing developers to focus on the logic of their program without worrying about memory management and other details.\n",
      "3. **Interpreted language**: Python code is executed line by line, which means that the interpreter checks each line before running it, making it easier to debug and test code.\n",
      "4. **Dynamic typing**: Python is dynamically typed, meaning that you don't need to declare variable types before using them.\n",
      "\n",
      "**Use Cases:**\n",
      "\n",
      "1. **Web development**: Python is used in web development frameworks such as Django and Flask to build scalable and secure web applications.\n",
      "2. **Data analysis**: Python's popular libraries such as Pandas, NumPy, and Matplotlib make it an ideal language for data analysis and visualization.\n",
      "3. **Artificial intelligence**: Python is widely used in AI and machine learning due to its simplicity and flexibility, with libraries like TensorFlow and Keras.\n",
      "4. **Automation**: Python can be used to automate tasks such as data scraping, file management, and system administration.\n",
      "\n",
      "**Popular Libraries:**\n",
      "\n",
      "1. **NumPy**: A library for efficient numerical computation.\n",
      "2. **Pandas**: A library for data manipulation and analysis.\n",
      "3. **Matplotlib**: A library for data visualization.\n",
      "4. **Django**: A web development framework.\n",
      "5. **Flask**: A lightweight web development framework.\n",
      "\n",
      "**Career Opportunities:**\n",
      "\n",
      "1. **Data scientist**: Python is widely used in data science, making it a great language to learn if you're interested in this field.\n",
      "2. **Web developer**: Python's popularity in web development means that there are many job opportunities available.\n",
      "3. **AI/Machine learning engineer**: Python's ease of use and flexibility make it an ideal language for AI and machine learning.\n",
      "\n",
      "**Resources:**\n",
      "\n",
      "1. **Official Python documentation**: A comprehensive resource for learning Python.\n",
      "2. **Codecademy**: An online platform offering interactive coding lessons in Python.\n",
      "3. **Python tutorials on YouTube**: Many YouTube channels offer high-quality tutorials and explanations of Python programming.\n",
      "\n",
      "Overall, Python is a versatile and powerful language that can be used for a wide range of applications, from web development to data analysis and AI. Its simplicity and flexibility make it an ideal language for beginners and experienced developers alike.\n"
     ]
    },
    {
     "data": {
      "text/plain": [
       "\"Python is a high-level, interpreted programming language that is widely used for various purposes such as web development, scientific computing, data analysis, artificial intelligence, and more. Here are some key features and facts about Python:\\n\\n**Key Features:**\\n\\n1. **Easy to learn**: Python has a simple syntax and is relatively easy to read and write, making it a great language for beginners.\\n2. **High-level language**: Python abstracts away many low-level details, allowing developers to focus on the logic of their program without worrying about memory management and other details.\\n3. **Interpreted language**: Python code is executed line by line, which means that the interpreter checks each line before running it, making it easier to debug and test code.\\n4. **Dynamic typing**: Python is dynamically typed, meaning that you don't need to declare variable types before using them.\\n\\n**Use Cases:**\\n\\n1. **Web development**: Python is used in web development frameworks such as Django and Flask to build scalable and secure web applications.\\n2. **Data analysis**: Python's popular libraries such as Pandas, NumPy, and Matplotlib make it an ideal language for data analysis and visualization.\\n3. **Artificial intelligence**: Python is widely used in AI and machine learning due to its simplicity and flexibility, with libraries like TensorFlow and Keras.\\n4. **Automation**: Python can be used to automate tasks such as data scraping, file management, and system administration.\\n\\n**Popular Libraries:**\\n\\n1. **NumPy**: A library for efficient numerical computation.\\n2. **Pandas**: A library for data manipulation and analysis.\\n3. **Matplotlib**: A library for data visualization.\\n4. **Django**: A web development framework.\\n5. **Flask**: A lightweight web development framework.\\n\\n**Career Opportunities:**\\n\\n1. **Data scientist**: Python is widely used in data science, making it a great language to learn if you're interested in this field.\\n2. **Web developer**: Python's popularity in web development means that there are many job opportunities available.\\n3. **AI/Machine learning engineer**: Python's ease of use and flexibility make it an ideal language for AI and machine learning.\\n\\n**Resources:**\\n\\n1. **Official Python documentation**: A comprehensive resource for learning Python.\\n2. **Codecademy**: An online platform offering interactive coding lessons in Python.\\n3. **Python tutorials on YouTube**: Many YouTube channels offer high-quality tutorials and explanations of Python programming.\\n\\nOverall, Python is a versatile and powerful language that can be used for a wide range of applications, from web development to data analysis and AI. Its simplicity and flexibility make it an ideal language for beginners and experienced developers alike.\""
      ]
     },
     "execution_count": 24,
     "metadata": {},
     "output_type": "execute_result"
    }
   ],
   "source": [
    "# Test 4: Compare with and without memory\n",
    "print(\" TEST 4: Same Python question WITHOUT memory\")\n",
    "memory_chat(\"What can you tell me about Python programming?\", use_memory=False)"
   ]
  },
  {
   "cell_type": "code",
   "execution_count": null,
   "id": "28170257",
   "metadata": {},
   "outputs": [],
   "source": []
  }
 ],
 "metadata": {
  "kernelspec": {
   "display_name": "venv",
   "language": "python",
   "name": "python3"
  },
  "language_info": {
   "codemirror_mode": {
    "name": "ipython",
    "version": 3
   },
   "file_extension": ".py",
   "mimetype": "text/x-python",
   "name": "python",
   "nbconvert_exporter": "python",
   "pygments_lexer": "ipython3",
   "version": "3.13.7"
  }
 },
 "nbformat": 4,
 "nbformat_minor": 5
}
