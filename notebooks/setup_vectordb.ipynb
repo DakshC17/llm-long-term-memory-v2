{
 "cells": [
  {
   "cell_type": "markdown",
   "id": "e22d06d2",
   "metadata": {},
   "source": [
    "# Vector Database Setup and Exploration\n",
    "\n",
    "This notebook explores ChromaDB for our LLM long-term memory project.\n",
    "\n",
    "## Goals:\n",
    "- Install and setup ChromaDB\n",
    "- Create a simple collection\n",
    "- Add some sample data\n",
    "- Test basic similarity search\n",
    "- Understand how embeddings work\n",
    "\n",
    "## What we're building:\n",
    "A memory system that stores conversations and retrieves similar past interactions."
   ]
  },
  {
   "cell_type": "code",
   "execution_count": 6,
   "id": "163f33c4",
   "metadata": {},
   "outputs": [
    {
     "name": "stdout",
     "output_type": "stream",
     "text": [
      "Libraries imported successfully!\n",
      "ChromaDB version: 1.0.20\n",
      "Current time: 2025-08-29 14:14:53.221524\n"
     ]
    }
   ],
   "source": [
    "# Here we are importing usefull libraries to start with..\n",
    "import chromadb\n",
    "import os\n",
    "from datetime import datetime\n",
    "\n",
    "#lets check if imported\n",
    "\n",
    "\n",
    "print(\"Libraries imported successfully!\")\n",
    "print(f\"ChromaDB version: {chromadb.__version__}\")\n",
    "print(f\"Current time: {datetime.now()}\")\n"
   ]
  },
  {
   "cell_type": "code",
   "execution_count": 7,
   "id": "70d0c88c",
   "metadata": {},
   "outputs": [
    {
     "name": "stdout",
     "output_type": "stream",
     "text": [
      "Created new collection!\n",
      "Collection name: conversation_memory\n",
      "Collection count: 0\n",
      "Ready to store memories!\n"
     ]
    }
   ],
   "source": [
    "# we will create a chromadb client now\n",
    "client = chromadb.Client()\n",
    "\n",
    "# Try to get existing collection or create new one\n",
    "try:\n",
    "    collection = client.get_collection(name=\"conversation_memory\")\n",
    "    print(\"Found existing collection!\")\n",
    "except:\n",
    "    collection = client.create_collection(\n",
    "        name=\"conversation_memory\",\n",
    "        metadata={\"description\": \"Stores conversation history for LLM memory and have a large context over conversations.\"}\n",
    "    )\n",
    "    print(\"Created new collection!\")\n",
    "\n",
    "print(f\"Collection name: {collection.name}\")\n",
    "print(f\"Collection count: {collection.count()}\")\n",
    "print(\"Ready to store memories!\")"
   ]
  },
  {
   "cell_type": "code",
   "execution_count": 8,
   "id": "3efe39d8",
   "metadata": {},
   "outputs": [],
   "source": [
    "# Now we will try to add some sample conversation so that we can use for testing and creating our agent...\n",
    "sample_conversations = [\n",
    "    \"User asked about machine learning basics and showed interest in neural networks\",\n",
    "    \"User wants to learn Python programming and mentioned they are a beginner\",\n",
    "    \"Discussion about building a web scraping project using BeautifulSoup\",\n",
    "    \"User asked for help with data visualization using matplotlib and pandas\",\n",
    "    \"Conversation about setting up a virtual environment for Python projects\"\n",
    "]\n"
   ]
  },
  {
   "cell_type": "code",
   "execution_count": null,
   "id": "3fa99450",
   "metadata": {},
   "outputs": [],
   "source": []
  }
 ],
 "metadata": {
  "kernelspec": {
   "display_name": "venv",
   "language": "python",
   "name": "python3"
  },
  "language_info": {
   "codemirror_mode": {
    "name": "ipython",
    "version": 3
   },
   "file_extension": ".py",
   "mimetype": "text/x-python",
   "name": "python",
   "nbconvert_exporter": "python",
   "pygments_lexer": "ipython3",
   "version": "3.13.7"
  }
 },
 "nbformat": 4,
 "nbformat_minor": 5
}
