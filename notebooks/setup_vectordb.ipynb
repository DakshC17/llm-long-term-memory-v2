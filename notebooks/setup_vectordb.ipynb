{
 "cells": [
  {
   "cell_type": "markdown",
   "id": "e22d06d2",
   "metadata": {},
   "source": [
    "# Vector Database Setup and Exploration\n",
    "\n",
    "This notebook explores ChromaDB for our LLM long-term memory project.\n",
    "\n",
    "## Goals:\n",
    "- Install and setup ChromaDB\n",
    "- Create a simple collection\n",
    "- Add some sample data\n",
    "- Test basic similarity search\n",
    "- Understand how embeddings work\n",
    "\n",
    "## What we're building:\n",
    "A memory system that stores conversations and retrieves similar past interactions."
   ]
  },
  {
   "cell_type": "code",
   "execution_count": null,
   "id": "163f33c4",
   "metadata": {},
   "outputs": [],
   "source": []
  }
 ],
 "metadata": {
  "kernelspec": {
   "display_name": "venv",
   "language": "python",
   "name": "python3"
  },
  "language_info": {
   "name": "python",
   "version": "3.13.7"
  }
 },
 "nbformat": 4,
 "nbformat_minor": 5
}
